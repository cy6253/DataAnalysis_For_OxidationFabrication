{
  "nbformat": 4,
  "nbformat_minor": 0,
  "metadata": {
    "colab": {
      "provenance": [],
      "mount_file_id": "172oCQViWvkgYzmlMlLXgBM7xIPQnXt0S",
      "authorship_tag": "ABX9TyOH1BW2gF5hkWXG07K0fVsy",
      "include_colab_link": true
    },
    "kernelspec": {
      "name": "python3",
      "display_name": "Python 3"
    },
    "language_info": {
      "name": "python"
    },
    "accelerator": "GPU",
    "gpuClass": "standard"
  },
  "cells": [
    {
      "cell_type": "markdown",
      "metadata": {
        "id": "view-in-github",
        "colab_type": "text"
      },
      "source": [
        "<a href=\"https://colab.research.google.com/github/cy6253/DataAnalysis_For_OxidationFabrication/blob/main/FDC%26SPC.ipynb\" target=\"_parent\"><img src=\"https://colab.research.google.com/assets/colab-badge.svg\" alt=\"Open In Colab\"/></a>"
      ]
    },
    {
      "cell_type": "code",
      "source": [
        "%cd /content/drive/MyDrive/FDC&SPC_for_Oxidation/"
      ],
      "metadata": {
        "colab": {
          "base_uri": "https://localhost:8080/"
        },
        "id": "sG6MXKOX9PuN",
        "outputId": "b692a25f-7ed3-4103-f7f6-a4c292b574fb"
      },
      "execution_count": null,
      "outputs": [
        {
          "output_type": "stream",
          "name": "stdout",
          "text": [
            "/content/drive/MyDrive/FDC&SPC_for_Oxidation\n"
          ]
        }
      ]
    },
    {
      "cell_type": "code",
      "source": [
        "import pandas as pd\n",
        "import numpy as np\n",
        "import matplotlib.pyplot as plt\n",
        "import seaborn as sns"
      ],
      "metadata": {
        "id": "TUG8G3_qfNif"
      },
      "execution_count": null,
      "outputs": []
    },
    {
      "cell_type": "code",
      "source": [
        "def fix_font():\n",
        "    # From https://HC.Dle.pw, By Jinseo Kim\n",
        "    # v1.0.0\n",
        "    import os\n",
        "    import matplotlib as mpl\n",
        "    import matplotlib.pyplot as plt\n",
        "    os.system(\"apt-get install -y fonts-nanum\")\n",
        "    os.system(\"fc-cache -fv\")\n",
        "    mpl.font_manager._rebuild()\n",
        "    findfont = mpl.font_manager.fontManager.findfont\n",
        "    mpl.font_manager.findfont = findfont\n",
        "    mpl.backends.backend_agg.findfont = findfont\n",
        "    plt.rcParams['font.family'] = \"NanumBarunGothic\"\n",
        "    plt.rcParams['axes.unicode_minus'] = False\n",
        "           \n",
        "fix_font()"
      ],
      "metadata": {
        "id": "OfUnKMA5jH_D"
      },
      "execution_count": null,
      "outputs": []
    },
    {
      "cell_type": "markdown",
      "source": [
        "# **Oxidation Fault Detection & Classification**"
      ],
      "metadata": {
        "id": "3oCoE_2F9kSe"
      }
    },
    {
      "cell_type": "markdown",
      "source": [
        "## **Data Preprocessing**"
      ],
      "metadata": {
        "id": "pBfDr0NLL46j"
      }
    },
    {
      "cell_type": "code",
      "source": [
        "Oxid = pd.read_csv(\"Oxid.csv\")"
      ],
      "metadata": {
        "id": "aHDu18_q9sPG"
      },
      "execution_count": null,
      "outputs": []
    },
    {
      "cell_type": "code",
      "source": [
        "Oxid.describe() # Oxid_time에 이상치 존재"
      ],
      "metadata": {
        "id": "dqCdU2as9vQN",
        "colab": {
          "base_uri": "https://localhost:8080/",
          "height": 300
        },
        "outputId": "9a0332db-a82c-41eb-9ce5-92d17ea75914"
      },
      "execution_count": null,
      "outputs": [
        {
          "output_type": "execute_result",
          "data": {
            "text/plain": [
              "       Ox_Chamber    Temp_OXid         ppm    Pressure   Oxid_time  \\\n",
              "count   852.00000   852.000000  852.000000  852.000000  852.000000   \n",
              "mean      2.00000  1064.415784   33.202242    0.211374  123.201878   \n",
              "std       0.81265   149.550147    8.494070    0.009067   76.285130   \n",
              "min       1.00000   862.011276   21.070000    0.180000   -6.000000   \n",
              "25%       1.00000   874.756813   22.450000    0.205000   52.000000   \n",
              "50%       2.00000  1069.240209   33.420000    0.213000  116.000000   \n",
              "75%       3.00000  1189.172249   40.452500    0.217000  217.000000   \n",
              "max       3.00000  1339.476675   49.910000    0.229000  291.000000   \n",
              "\n",
              "        thickness     Lot_Num   Wafer_Num  \n",
              "count  852.000000  852.000000  852.000000  \n",
              "mean   710.926810   16.281690   13.894366  \n",
              "std      8.082856    9.116841    7.785951  \n",
              "min    681.435000    1.000000    1.000000  \n",
              "25%    706.313000    8.000000    7.000000  \n",
              "50%    711.590500   16.000000   14.000000  \n",
              "75%    715.595000   24.000000   21.000000  \n",
              "max    737.402000   32.000000   27.000000  "
            ],
            "text/html": [
              "\n",
              "  <div id=\"df-330b12e4-2654-475e-9256-74e430499ac0\">\n",
              "    <div class=\"colab-df-container\">\n",
              "      <div>\n",
              "<style scoped>\n",
              "    .dataframe tbody tr th:only-of-type {\n",
              "        vertical-align: middle;\n",
              "    }\n",
              "\n",
              "    .dataframe tbody tr th {\n",
              "        vertical-align: top;\n",
              "    }\n",
              "\n",
              "    .dataframe thead th {\n",
              "        text-align: right;\n",
              "    }\n",
              "</style>\n",
              "<table border=\"1\" class=\"dataframe\">\n",
              "  <thead>\n",
              "    <tr style=\"text-align: right;\">\n",
              "      <th></th>\n",
              "      <th>Ox_Chamber</th>\n",
              "      <th>Temp_OXid</th>\n",
              "      <th>ppm</th>\n",
              "      <th>Pressure</th>\n",
              "      <th>Oxid_time</th>\n",
              "      <th>thickness</th>\n",
              "      <th>Lot_Num</th>\n",
              "      <th>Wafer_Num</th>\n",
              "    </tr>\n",
              "  </thead>\n",
              "  <tbody>\n",
              "    <tr>\n",
              "      <th>count</th>\n",
              "      <td>852.00000</td>\n",
              "      <td>852.000000</td>\n",
              "      <td>852.000000</td>\n",
              "      <td>852.000000</td>\n",
              "      <td>852.000000</td>\n",
              "      <td>852.000000</td>\n",
              "      <td>852.000000</td>\n",
              "      <td>852.000000</td>\n",
              "    </tr>\n",
              "    <tr>\n",
              "      <th>mean</th>\n",
              "      <td>2.00000</td>\n",
              "      <td>1064.415784</td>\n",
              "      <td>33.202242</td>\n",
              "      <td>0.211374</td>\n",
              "      <td>123.201878</td>\n",
              "      <td>710.926810</td>\n",
              "      <td>16.281690</td>\n",
              "      <td>13.894366</td>\n",
              "    </tr>\n",
              "    <tr>\n",
              "      <th>std</th>\n",
              "      <td>0.81265</td>\n",
              "      <td>149.550147</td>\n",
              "      <td>8.494070</td>\n",
              "      <td>0.009067</td>\n",
              "      <td>76.285130</td>\n",
              "      <td>8.082856</td>\n",
              "      <td>9.116841</td>\n",
              "      <td>7.785951</td>\n",
              "    </tr>\n",
              "    <tr>\n",
              "      <th>min</th>\n",
              "      <td>1.00000</td>\n",
              "      <td>862.011276</td>\n",
              "      <td>21.070000</td>\n",
              "      <td>0.180000</td>\n",
              "      <td>-6.000000</td>\n",
              "      <td>681.435000</td>\n",
              "      <td>1.000000</td>\n",
              "      <td>1.000000</td>\n",
              "    </tr>\n",
              "    <tr>\n",
              "      <th>25%</th>\n",
              "      <td>1.00000</td>\n",
              "      <td>874.756813</td>\n",
              "      <td>22.450000</td>\n",
              "      <td>0.205000</td>\n",
              "      <td>52.000000</td>\n",
              "      <td>706.313000</td>\n",
              "      <td>8.000000</td>\n",
              "      <td>7.000000</td>\n",
              "    </tr>\n",
              "    <tr>\n",
              "      <th>50%</th>\n",
              "      <td>2.00000</td>\n",
              "      <td>1069.240209</td>\n",
              "      <td>33.420000</td>\n",
              "      <td>0.213000</td>\n",
              "      <td>116.000000</td>\n",
              "      <td>711.590500</td>\n",
              "      <td>16.000000</td>\n",
              "      <td>14.000000</td>\n",
              "    </tr>\n",
              "    <tr>\n",
              "      <th>75%</th>\n",
              "      <td>3.00000</td>\n",
              "      <td>1189.172249</td>\n",
              "      <td>40.452500</td>\n",
              "      <td>0.217000</td>\n",
              "      <td>217.000000</td>\n",
              "      <td>715.595000</td>\n",
              "      <td>24.000000</td>\n",
              "      <td>21.000000</td>\n",
              "    </tr>\n",
              "    <tr>\n",
              "      <th>max</th>\n",
              "      <td>3.00000</td>\n",
              "      <td>1339.476675</td>\n",
              "      <td>49.910000</td>\n",
              "      <td>0.229000</td>\n",
              "      <td>291.000000</td>\n",
              "      <td>737.402000</td>\n",
              "      <td>32.000000</td>\n",
              "      <td>27.000000</td>\n",
              "    </tr>\n",
              "  </tbody>\n",
              "</table>\n",
              "</div>\n",
              "      <button class=\"colab-df-convert\" onclick=\"convertToInteractive('df-330b12e4-2654-475e-9256-74e430499ac0')\"\n",
              "              title=\"Convert this dataframe to an interactive table.\"\n",
              "              style=\"display:none;\">\n",
              "        \n",
              "  <svg xmlns=\"http://www.w3.org/2000/svg\" height=\"24px\"viewBox=\"0 0 24 24\"\n",
              "       width=\"24px\">\n",
              "    <path d=\"M0 0h24v24H0V0z\" fill=\"none\"/>\n",
              "    <path d=\"M18.56 5.44l.94 2.06.94-2.06 2.06-.94-2.06-.94-.94-2.06-.94 2.06-2.06.94zm-11 1L8.5 8.5l.94-2.06 2.06-.94-2.06-.94L8.5 2.5l-.94 2.06-2.06.94zm10 10l.94 2.06.94-2.06 2.06-.94-2.06-.94-.94-2.06-.94 2.06-2.06.94z\"/><path d=\"M17.41 7.96l-1.37-1.37c-.4-.4-.92-.59-1.43-.59-.52 0-1.04.2-1.43.59L10.3 9.45l-7.72 7.72c-.78.78-.78 2.05 0 2.83L4 21.41c.39.39.9.59 1.41.59.51 0 1.02-.2 1.41-.59l7.78-7.78 2.81-2.81c.8-.78.8-2.07 0-2.86zM5.41 20L4 18.59l7.72-7.72 1.47 1.35L5.41 20z\"/>\n",
              "  </svg>\n",
              "      </button>\n",
              "      \n",
              "  <style>\n",
              "    .colab-df-container {\n",
              "      display:flex;\n",
              "      flex-wrap:wrap;\n",
              "      gap: 12px;\n",
              "    }\n",
              "\n",
              "    .colab-df-convert {\n",
              "      background-color: #E8F0FE;\n",
              "      border: none;\n",
              "      border-radius: 50%;\n",
              "      cursor: pointer;\n",
              "      display: none;\n",
              "      fill: #1967D2;\n",
              "      height: 32px;\n",
              "      padding: 0 0 0 0;\n",
              "      width: 32px;\n",
              "    }\n",
              "\n",
              "    .colab-df-convert:hover {\n",
              "      background-color: #E2EBFA;\n",
              "      box-shadow: 0px 1px 2px rgba(60, 64, 67, 0.3), 0px 1px 3px 1px rgba(60, 64, 67, 0.15);\n",
              "      fill: #174EA6;\n",
              "    }\n",
              "\n",
              "    [theme=dark] .colab-df-convert {\n",
              "      background-color: #3B4455;\n",
              "      fill: #D2E3FC;\n",
              "    }\n",
              "\n",
              "    [theme=dark] .colab-df-convert:hover {\n",
              "      background-color: #434B5C;\n",
              "      box-shadow: 0px 1px 3px 1px rgba(0, 0, 0, 0.15);\n",
              "      filter: drop-shadow(0px 1px 2px rgba(0, 0, 0, 0.3));\n",
              "      fill: #FFFFFF;\n",
              "    }\n",
              "  </style>\n",
              "\n",
              "      <script>\n",
              "        const buttonEl =\n",
              "          document.querySelector('#df-330b12e4-2654-475e-9256-74e430499ac0 button.colab-df-convert');\n",
              "        buttonEl.style.display =\n",
              "          google.colab.kernel.accessAllowed ? 'block' : 'none';\n",
              "\n",
              "        async function convertToInteractive(key) {\n",
              "          const element = document.querySelector('#df-330b12e4-2654-475e-9256-74e430499ac0');\n",
              "          const dataTable =\n",
              "            await google.colab.kernel.invokeFunction('convertToInteractive',\n",
              "                                                     [key], {});\n",
              "          if (!dataTable) return;\n",
              "\n",
              "          const docLinkHtml = 'Like what you see? Visit the ' +\n",
              "            '<a target=\"_blank\" href=https://colab.research.google.com/notebooks/data_table.ipynb>data table notebook</a>'\n",
              "            + ' to learn more about interactive tables.';\n",
              "          element.innerHTML = '';\n",
              "          dataTable['output_type'] = 'display_data';\n",
              "          await google.colab.output.renderOutput(dataTable, element);\n",
              "          const docLink = document.createElement('div');\n",
              "          docLink.innerHTML = docLinkHtml;\n",
              "          element.appendChild(docLink);\n",
              "        }\n",
              "      </script>\n",
              "    </div>\n",
              "  </div>\n",
              "  "
            ]
          },
          "metadata": {},
          "execution_count": 5
        }
      ]
    },
    {
      "cell_type": "code",
      "source": [
        "cond = Oxid[\"Oxid_time\"] < 0\n",
        "Oxid[\"Oxid_time\"].loc[cond] = np.nan"
      ],
      "metadata": {
        "id": "D8s1-kLQ93Il",
        "colab": {
          "base_uri": "https://localhost:8080/"
        },
        "outputId": "48a93725-e642-471d-e934-454d001a8d7e"
      },
      "execution_count": null,
      "outputs": [
        {
          "output_type": "stream",
          "name": "stderr",
          "text": [
            "/usr/local/lib/python3.7/dist-packages/pandas/core/indexing.py:1732: SettingWithCopyWarning: \n",
            "A value is trying to be set on a copy of a slice from a DataFrame\n",
            "\n",
            "See the caveats in the documentation: https://pandas.pydata.org/pandas-docs/stable/user_guide/indexing.html#returning-a-view-versus-a-copy\n",
            "  self._setitem_single_block(indexer, value, name)\n"
          ]
        }
      ]
    },
    {
      "cell_type": "code",
      "source": [
        "Oxid.dropna(inplace = True) # 이상치 제거"
      ],
      "metadata": {
        "id": "72_hxmcE-bmO"
      },
      "execution_count": null,
      "outputs": []
    },
    {
      "cell_type": "code",
      "source": [
        "oxid = Oxid.drop(columns=[\"Ox_Chamber\", \"process\", \"Vapor\", \"No_Die\", \"Lot_Num\", \"Wafer_Num\", \"Datetime\"]) # 필요 없는 columns 제거"
      ],
      "metadata": {
        "id": "FhZXNvkE-nLW"
      },
      "execution_count": null,
      "outputs": []
    },
    {
      "cell_type": "code",
      "source": [
        "sns.histplot(data = oxid, x = 'thickness')"
      ],
      "metadata": {
        "id": "eGXJt18S-_Vl",
        "colab": {
          "base_uri": "https://localhost:8080/",
          "height": 297
        },
        "outputId": "e30b5db9-facd-49b9-90f9-904306018377"
      },
      "execution_count": null,
      "outputs": [
        {
          "output_type": "execute_result",
          "data": {
            "text/plain": [
              "<matplotlib.axes._subplots.AxesSubplot at 0x7f4e7de2b450>"
            ]
          },
          "metadata": {},
          "execution_count": 9
        },
        {
          "output_type": "display_data",
          "data": {
            "text/plain": [
              "<Figure size 432x288 with 1 Axes>"
            ],
            "image/png": "[encoded data removed]"
          },
          "metadata": {
            "needs_background": "light"
          }
        }
      ]
    },
    {
      "cell_type": "code",
      "source": [
        "THK_mean = oxid['thickness'].mean()\n",
        "THK_std = oxid['thickness'].std()\n",
        "\n",
        "USL = THK_mean + (2*THK_std) # Upper Spec Limit\n",
        "LSL = THK_mean - (2*THK_std) # Lower Spec Limit\n",
        "# 공정 마진 = 2 시그마"
      ],
      "metadata": {
        "id": "rCvXvpcJ_K4W"
      },
      "execution_count": null,
      "outputs": []
    },
    {
      "cell_type": "code",
      "source": [
        "cond = ((oxid['thickness'] > USL) | (oxid['thickness'] < LSL)) # 후속 공정 진행 불가 조건"
      ],
      "metadata": {
        "id": "6L7t_OckB2GI"
      },
      "execution_count": null,
      "outputs": []
    },
    {
      "cell_type": "code",
      "source": [
        "oxid[\"Pass/Fail\"] = True"
      ],
      "metadata": {
        "id": "q0Jpoty4DlhM"
      },
      "execution_count": null,
      "outputs": []
    },
    {
      "cell_type": "code",
      "source": [
        "oxid[\"Pass/Fail\"].loc[cond] = False"
      ],
      "metadata": {
        "id": "kepXNIk0B2IZ",
        "colab": {
          "base_uri": "https://localhost:8080/"
        },
        "outputId": "bcfbf85a-cfca-475d-f88c-1513c2c5ea8b"
      },
      "execution_count": null,
      "outputs": [
        {
          "output_type": "stream",
          "name": "stderr",
          "text": [
            "/usr/local/lib/python3.7/dist-packages/pandas/core/indexing.py:1732: SettingWithCopyWarning: \n",
            "A value is trying to be set on a copy of a slice from a DataFrame\n",
            "\n",
            "See the caveats in the documentation: https://pandas.pydata.org/pandas-docs/stable/user_guide/indexing.html#returning-a-view-versus-a-copy\n",
            "  self._setitem_single_block(indexer, value, name)\n"
          ]
        }
      ]
    },
    {
      "cell_type": "code",
      "source": [
        "oxid['Pass/Fail'].value_counts()\n",
        "# Pass : 801\n",
        "# Fail : 45"
      ],
      "metadata": {
        "id": "W7lYLsujB2Kj",
        "colab": {
          "base_uri": "https://localhost:8080/"
        },
        "outputId": "b70e1b61-2a1b-46bf-e3ce-703e81f34fb5"
      },
      "execution_count": null,
      "outputs": [
        {
          "output_type": "execute_result",
          "data": {
            "text/plain": [
              "True     801\n",
              "False     45\n",
              "Name: Pass/Fail, dtype: int64"
            ]
          },
          "metadata": {},
          "execution_count": 14
        }
      ]
    },
    {
      "cell_type": "code",
      "source": [
        "# dry oxidation과 wet oxidation을 따로 분석\n",
        "cond1 = oxid['type'] == 'dry'\n",
        "\n",
        "Doxid = oxid.loc[cond1] # Dry\n",
        "cond2 = Doxid['Pass/Fail'] == True\n",
        "DPoxid = Doxid.loc[cond2] # Dry & Pass\n",
        "DFoxid = Doxid.loc[~cond2] # Dry & Fail\n",
        "\n",
        "Woxid = oxid.loc[~cond1] # Wet\n",
        "cond3 = Woxid['Pass/Fail'] == True\n",
        "WPoxid = Woxid.loc[cond3] # Wet & Pass\n",
        "WFoxid = Woxid.loc[~cond3] # Wet & Fail"
      ],
      "metadata": {
        "id": "Mh-DcssbEKQ6"
      },
      "execution_count": null,
      "outputs": []
    },
    {
      "cell_type": "code",
      "source": [
        "fig, ((ax1, ax2, ax3, ax4), (ax5, ax6, ax7, ax8)) = plt.subplots(nrows = 2, ncols = 4)\n",
        "fig.set_size_inches(20,10)\n",
        "\n",
        "sns.kdeplot(data = DPoxid, x = 'Temp_OXid', color = 'blue', legend = False, ax = ax1)\n",
        "sns.kdeplot(data = DFoxid, x = 'Temp_OXid', color = 'red', legend = False, ax = ax1)\n",
        "ax1.legend(labels=['Pass', 'Fail'])\n",
        "sns.kdeplot(data = WPoxid, x = 'Temp_OXid', color = 'blue', legend = False, ax = ax2)\n",
        "sns.kdeplot(data = WFoxid, x = 'Temp_OXid', color = 'red', legend = False, ax = ax2)\n",
        "ax2.legend(labels=['Pass', 'Fail'])\n",
        "\n",
        "sns.kdeplot(data = DPoxid, x = 'ppm', color = 'blue', legend = False, ax = ax3)\n",
        "sns.kdeplot(data = DFoxid, x = 'ppm', color = 'red', legend = False, ax = ax3)\n",
        "ax3.legend(labels=['Pass', 'Fail'])\n",
        "sns.kdeplot(data = WPoxid, x = 'ppm', color = 'blue', legend = False, ax = ax4)\n",
        "sns.kdeplot(data = WFoxid, x = 'ppm', color = 'red', legend = False, ax = ax4)\n",
        "ax4.legend(labels=['Pass', 'Fail'])\n",
        "\n",
        "sns.kdeplot(data = DPoxid, x = 'Pressure', color = 'blue', legend = False, ax = ax5)\n",
        "sns.kdeplot(data = DFoxid, x = 'Pressure', color = 'red', legend = False, ax = ax5)\n",
        "ax5.legend(labels=['Pass', 'Fail'])\n",
        "sns.kdeplot(data = WPoxid, x = 'Pressure', color = 'blue', legend = False, ax = ax6)\n",
        "sns.kdeplot(data = WFoxid, x = 'Pressure', color = 'red', legend = False, ax = ax6)\n",
        "ax6.legend(labels=['Pass', 'Fail'])\n",
        "\n",
        "sns.kdeplot(data = DPoxid, x = 'Oxid_time', color = 'blue', legend = False, ax = ax7)\n",
        "sns.kdeplot(data = DFoxid, x = 'Oxid_time', color = 'red', legend = False, ax = ax7)\n",
        "ax7.legend(labels=['Pass', 'Fail'])\n",
        "sns.kdeplot(data = WPoxid, x = 'Oxid_time', color = 'blue', legend = False, ax = ax8)\n",
        "sns.kdeplot(data = WFoxid, x = 'Oxid_time', color = 'red', legend = False, ax = ax8)\n",
        "ax8.legend(labels=['Pass', 'Fail'])\n",
        "\n",
        "ax1.set(title=\"Dry\")\n",
        "ax2.set(title=\"Wet\")\n",
        "ax3.set(title=\"Dry\")\n",
        "ax4.set(title=\"Wet\")\n",
        "ax5.set(title=\"Dry\")\n",
        "ax6.set(title=\"Wet\")\n",
        "ax7.set(title=\"Dry\")\n",
        "ax8.set(title=\"Wet\")\n"
      ],
      "metadata": {
        "id": "s0oLJ9IN6Hj2",
        "colab": {
          "base_uri": "https://localhost:8080/",
          "height": 638
        },
        "outputId": "8bf036f4-f86b-4a31-f9bb-9f225170ebf3"
      },
      "execution_count": null,
      "outputs": [
        {
          "output_type": "execute_result",
          "data": {
            "text/plain": [
              "[Text(0.5, 1.0, 'Wet')]"
            ]
          },
          "metadata": {},
          "execution_count": 16
        },
        {
          "output_type": "display_data",
          "data": {
            "text/plain": [
              "<Figure size 1440x720 with 8 Axes>"
            ],
            "image/png": "[encoded data removed]"
          },
          "metadata": {
            "needs_background": "light"
          }
        }
      ]
    },
    {
      "cell_type": "markdown",
      "source": [
        "## **Statistical Analysis**"
      ],
      "metadata": {
        "id": "1U-jXFPXL9iq"
      }
    },
    {
      "cell_type": "code",
      "source": [
        "import scipy.stats as stats"
      ],
      "metadata": {
        "id": "TtdywEGYMcma"
      },
      "execution_count": null,
      "outputs": []
    },
    {
      "cell_type": "code",
      "source": [
        "fig, ((ax1, ax2), (ax3, ax4)) = plt.subplots(nrows = 2, ncols = 2)\n",
        "fig.set_size_inches(15,15)\n",
        "\n",
        "sns.barplot(data = oxid, x = 'Pass/Fail', y='Temp_OXid', hue = 'type', ax = ax1, ci=None)\n",
        "sns.barplot(data = oxid, x = 'Pass/Fail', y='ppm', hue = 'type', ax = ax2, ci=None)\n",
        "sns.barplot(data = oxid, x = 'Pass/Fail', y='Pressure', hue = 'type', ax = ax3, ci=None)\n",
        "sns.barplot(data = oxid, x = 'Pass/Fail', y='Oxid_time', hue = 'type', ax = ax4, ci=None)\n",
        "\n",
        "ax1.set(title=\"Temperature\")\n",
        "ax2.set(title=\"O2 / H2O\")\n",
        "ax3.set(title=\"Pressure\")\n",
        "ax4.set(title=\"Time\")\n",
        "\n",
        "# 공정변수 별 \n",
        "# 후속 공정 진행 여부에 따라 \n",
        "# 유의미한 차이가 있는지 검증 필요"
      ],
      "metadata": {
        "id": "hwMGiQjfMctR",
        "colab": {
          "base_uri": "https://localhost:8080/",
          "height": 910
        },
        "outputId": "955aca48-b722-4cf9-b23b-968cdaece19d"
      },
      "execution_count": null,
      "outputs": [
        {
          "output_type": "execute_result",
          "data": {
            "text/plain": [
              "[Text(0.5, 1.0, 'Time')]"
            ]
          },
          "metadata": {},
          "execution_count": 18
        },
        {
          "output_type": "display_data",
          "data": {
            "text/plain": [
              "<Figure size 1080x1080 with 4 Axes>"
            ],
            "image/png": "[encoded data removed]"
          },
          "metadata": {
            "needs_background": "light"
          }
        }
      ]
    },
    {
      "cell_type": "markdown",
      "source": [
        "### **1) Temperature**\n",
        "\n",
        "  1.   *Wet 공정에서 후속 공정 진행 여부에 따라 온도에 유의미한 차이가 있는지 검증*\n",
        "  2.   *Dry 공정에서 후속 공정 진행 여부에 따라 온도에 유의미한 차이가 있는지 검증*\n",
        "\n"
      ],
      "metadata": {
        "id": "FAZLAdcINz0U"
      }
    },
    {
      "cell_type": "code",
      "source": [
        "cond1 = oxid['type'] == 'wet'\n",
        "\n",
        "oxid_wet = oxid.loc[cond1] # Wet data"
      ],
      "metadata": {
        "id": "_A4eYnDmNP4i"
      },
      "execution_count": null,
      "outputs": []
    },
    {
      "cell_type": "code",
      "source": [
        "# 온도가 정규분포를 띄는가?\n",
        "# 귀무 가설 : 온도가 정규분포를 띈다\n",
        "# 대립 가설 : 온도가 정규분포를 띄지 않는다.\n",
        "stats.normaltest(oxid_wet['Temp_OXid'])\n",
        "# P value < 0.05 -> 대립가설 참 -> 온도가 정규분포를 띄지 않는다.\n",
        "# ==> 비모수적 검정"
      ],
      "metadata": {
        "id": "DmcS8l7ZOM-z",
        "colab": {
          "base_uri": "https://localhost:8080/"
        },
        "outputId": "6b6f1d7d-f133-409c-912b-d3125698b807"
      },
      "execution_count": null,
      "outputs": [
        {
          "output_type": "execute_result",
          "data": {
            "text/plain": [
              "NormaltestResult(statistic=94.57998214249325, pvalue=2.8987971689618255e-21)"
            ]
          },
          "metadata": {},
          "execution_count": 20
        }
      ]
    },
    {
      "cell_type": "code",
      "source": [
        "# 귀무 가설 : 후속 공정 진행 여부에 따라 온도에 유의미한 차이가 없을 것이다.\n",
        "# 대립 가설 : 후속 공정 진행 여부에 따라 온도에 유의미한 차이가 있을 것이다.\n",
        "cond1 = oxid_wet['Pass/Fail'] == True\n",
        "\n",
        "wet_true  = oxid_wet.loc[cond1]\n",
        "wet_false = oxid_wet.loc[~cond1]\n",
        "\n",
        "stats.ranksums(wet_true['Temp_OXid'], wet_false['Temp_OXid'])\n",
        "# P value > 0.05 -> 귀무가설 기각 실패 -> 후속 공정 진행 여부에 따라 온도에 유의미한 차이가 없다."
      ],
      "metadata": {
        "id": "-Sgdo-hhOX5D",
        "colab": {
          "base_uri": "https://localhost:8080/"
        },
        "outputId": "b7e0fc45-18bc-45d4-d538-7436b9c7a4b9"
      },
      "execution_count": null,
      "outputs": [
        {
          "output_type": "execute_result",
          "data": {
            "text/plain": [
              "RanksumsResult(statistic=0.5042380072795749, pvalue=0.6140941349739748)"
            ]
          },
          "metadata": {},
          "execution_count": 21
        }
      ]
    },
    {
      "cell_type": "code",
      "source": [
        "cond1 = oxid['type'] == 'dry'\n",
        "\n",
        "oxid_dry = oxid.loc[cond1] # Dry data"
      ],
      "metadata": {
        "id": "AvBodGkxOxX7"
      },
      "execution_count": null,
      "outputs": []
    },
    {
      "cell_type": "code",
      "source": [
        "# 온도가 정규분포를 띄는가?\n",
        "# 귀무 가설 : 온도가 정규분포를 띈다\n",
        "# 대립 가설 : 온도가 정규분포를 띄지 않는다.\n",
        "stats.normaltest(oxid_dry['Temp_OXid'])\n",
        "# P value < 0.05 -> 대립가설 참 -> 온도가 정규분포를 띄지 않는다.\n",
        "# ==> 비모수적 검정"
      ],
      "metadata": {
        "id": "IeN4xYZXO0r7",
        "colab": {
          "base_uri": "https://localhost:8080/"
        },
        "outputId": "32538890-171c-4766-bf18-23a9e7c2bc08"
      },
      "execution_count": null,
      "outputs": [
        {
          "output_type": "execute_result",
          "data": {
            "text/plain": [
              "NormaltestResult(statistic=238.6579665670551, pvalue=1.4999646664981524e-52)"
            ]
          },
          "metadata": {},
          "execution_count": 23
        }
      ]
    },
    {
      "cell_type": "code",
      "source": [
        "# 귀무 가설 : 추가 공정 여부에 따라 온도에 유의미한 차이가 없을 것이다.\n",
        "# 대립 가설 : 추가 공정 여부에 따라 온도에 유의미한 차이가 있을 것이다.\n",
        "cond1 = oxid_dry['Pass/Fail'] == True\n",
        "\n",
        "dry_true  = oxid_dry.loc[cond1]\n",
        "dry_false = oxid_dry.loc[~cond1]\n",
        "\n",
        "stats.ranksums(dry_true['Temp_OXid'], dry_false['Temp_OXid'])\n",
        "# P value < 0.05 -> 대립가설 참 -> 추가 공정 여부에 따라 온도에 유의미한 차이가 있다."
      ],
      "metadata": {
        "id": "Uq_it4aHO2my",
        "colab": {
          "base_uri": "https://localhost:8080/"
        },
        "outputId": "0f813529-3664-40ef-ca4e-204f88f3b469"
      },
      "execution_count": null,
      "outputs": [
        {
          "output_type": "execute_result",
          "data": {
            "text/plain": [
              "RanksumsResult(statistic=-2.4653474692890445, pvalue=0.013688044024934102)"
            ]
          },
          "metadata": {},
          "execution_count": 24
        }
      ]
    },
    {
      "cell_type": "markdown",
      "source": [
        "\n",
        "\n",
        "*   **Wet Oxidation의 경우, 후속 공정 진행 여부에 따라 온도에 유의미한 차이가 없다.**\n",
        "*   **Dry Oxidation의 경우, 후속 공정 진행 여부에 따라 온도에 유의미한 차이가 있다.**\n",
        "\n"
      ],
      "metadata": {
        "id": "onsJXiZUO-bT"
      }
    },
    {
      "cell_type": "markdown",
      "source": [
        "### **2) O2 / H2O ppm**\n",
        "  1.   Wet 공정에서 추가 공정 여부에 따라 H2O ppm에 유의미한 차이가 있는지 검증 \n",
        "  2.   Dry 공정에서 추가 공정 여부에 따라 O2  ppm에 유의미한 차이가 있는지 검증\n",
        "\n"
      ],
      "metadata": {
        "id": "kb224SmvPVJs"
      }
    },
    {
      "cell_type": "code",
      "source": [
        "cond1 = oxid['type'] == 'wet'\n",
        "\n",
        "oxid_wet = oxid.loc[cond1] # Wet data"
      ],
      "metadata": {
        "id": "RhDajuLpPW4i"
      },
      "execution_count": null,
      "outputs": []
    },
    {
      "cell_type": "code",
      "source": [
        "# ppm이 정규분포를 띄는가?\n",
        "# 귀무 가설 : ppm이 정규분포를 띈다\n",
        "# 대립 가설 : ppm이 정규분포를 띄지 않는다.\n",
        "stats.normaltest(oxid_wet['ppm'])\n",
        "# P value < 0.05 -> 대립가설 참 -> ppm이 정규분포를 띄지 않는다.\n",
        "# ==> 비모수적 검정"
      ],
      "metadata": {
        "id": "iMiajV0sPbNi",
        "colab": {
          "base_uri": "https://localhost:8080/"
        },
        "outputId": "fa9dd6b8-1ce1-4ca4-b7a9-0b3ca6b225cb"
      },
      "execution_count": null,
      "outputs": [
        {
          "output_type": "execute_result",
          "data": {
            "text/plain": [
              "NormaltestResult(statistic=55.20384316860684, pvalue=1.0295270598771564e-12)"
            ]
          },
          "metadata": {},
          "execution_count": 26
        }
      ]
    },
    {
      "cell_type": "code",
      "source": [
        "# 귀무 가설 : 후속 공정 진행 여부에 따라 ppm에 유의미한 차이가 없을 것이다.\n",
        "# 대립 가설 : 후속 공정 진행 여부에 따라 ppm에 유의미한 차이가 있을 것이다.\n",
        "cond1 = oxid_wet['Pass/Fail'] == True\n",
        "\n",
        "wet_true  = oxid_wet.loc[cond1]\n",
        "wet_false = oxid_wet.loc[~cond1]\n",
        "\n",
        "stats.ranksums(wet_true['ppm'], wet_false['ppm'])\n",
        "# P value > 0.05 -> 귀무 가설 기각 실패 -> 후속 공정 진행 여부에 따라 ppm에 유의미한 차이가 없다."
      ],
      "metadata": {
        "id": "j0IcvpzZPcLr",
        "colab": {
          "base_uri": "https://localhost:8080/"
        },
        "outputId": "3e444bbd-8623-4acf-97c0-352ec48426a5"
      },
      "execution_count": null,
      "outputs": [
        {
          "output_type": "execute_result",
          "data": {
            "text/plain": [
              "RanksumsResult(statistic=-0.13184204777493475, pvalue=0.8951092275084526)"
            ]
          },
          "metadata": {},
          "execution_count": 27
        }
      ]
    },
    {
      "cell_type": "code",
      "source": [
        "cond1 = oxid['type'] == 'dry'\n",
        "\n",
        "oxid_dry = oxid.loc[cond1] # Dry data"
      ],
      "metadata": {
        "id": "uUq-REWWPrBL"
      },
      "execution_count": null,
      "outputs": []
    },
    {
      "cell_type": "code",
      "source": [
        "# ppm이 정규분포를 띄는가?\n",
        "# 귀무 가설 : ppm이 정규분포를 띈다\n",
        "# 대립 가설 : ppm이 정규분포를 띄지 않는다.\n",
        "stats.normaltest(oxid_dry['ppm'])\n",
        "# P value < 0.05 -> 대립가설 참 -> 온도가 정규분포를 띄지 않는다.\n",
        "# ==> 비모수적 검정"
      ],
      "metadata": {
        "id": "cje7LYCCPtGT",
        "colab": {
          "base_uri": "https://localhost:8080/"
        },
        "outputId": "a74c196e-9191-47f6-c968-ff0f17b8c269"
      },
      "execution_count": null,
      "outputs": [
        {
          "output_type": "execute_result",
          "data": {
            "text/plain": [
              "NormaltestResult(statistic=111.71734286270353, pvalue=5.506646920206479e-25)"
            ]
          },
          "metadata": {},
          "execution_count": 29
        }
      ]
    },
    {
      "cell_type": "code",
      "source": [
        "# 귀무 가설 : 후속 공정 진행 여부에 따라 ppm에 유의미한 차이가 없을 것이다.\n",
        "# 대립 가설 : 후속 공정 진행 여부에 따라 ppm에 유의미한 차이가 있을 것이다.\n",
        "cond1 = oxid_dry['Pass/Fail'] == True\n",
        "\n",
        "dry_true  = oxid_dry.loc[cond1]\n",
        "dry_false = oxid_dry.loc[~cond1]\n",
        "\n",
        "stats.ranksums(dry_true['ppm'], dry_false['ppm'])\n",
        "# P value > 0.05 -> 귀무 가설 기각 실패 -> 후속 공정 진행 여부에 따라 ppm에 유의미한 차이가 없다."
      ],
      "metadata": {
        "id": "ruYOZHauPwgS",
        "colab": {
          "base_uri": "https://localhost:8080/"
        },
        "outputId": "137fed81-9322-4fdb-f861-882e5878994e"
      },
      "execution_count": null,
      "outputs": [
        {
          "output_type": "execute_result",
          "data": {
            "text/plain": [
              "RanksumsResult(statistic=-1.9392929343196406, pvalue=0.05246567876711466)"
            ]
          },
          "metadata": {},
          "execution_count": 30
        }
      ]
    },
    {
      "cell_type": "markdown",
      "source": [
        "\n",
        "\n",
        "*   **Wet Oxidation의 경우, 후속 공정 진행 여부에 따라 ppm에 유의미한 차이가 없다.**\n",
        "*   **Dry Oxidation의 경우, 후속 공정 진행 여부에 따라 ppm에 유의미한 차이가 없다.**\n",
        "\n"
      ],
      "metadata": {
        "id": "qWlr4G2JQHIb"
      }
    },
    {
      "cell_type": "markdown",
      "source": [
        "### **3) Pressure**\n",
        "\n",
        "  1.   *Wet 공정에서 추가 공정 여부에 따라 압력에 유의미한 차이가 있는지 검증*\n",
        "  2.   *Dry 공정에서 추가 공정 여부에 따라 압력에 유의미한 차이가 있는지 검증*\n",
        "\n"
      ],
      "metadata": {
        "id": "d8taR6iqQRw7"
      }
    },
    {
      "cell_type": "code",
      "source": [
        "cond1 = oxid['type'] == 'wet'\n",
        "\n",
        "oxid_wet = oxid.loc[cond1] # Wet data"
      ],
      "metadata": {
        "id": "GQSHT8CmQTes"
      },
      "execution_count": null,
      "outputs": []
    },
    {
      "cell_type": "code",
      "source": [
        "# Pressure가 정규분포를 띄는가?\n",
        "# 귀무 가설 : 압력이 정규분포를 띈다\n",
        "# 대립 가설 : 압력이 정규분포를 띄지 않는다.\n",
        "stats.normaltest(oxid_wet['Pressure'])\n",
        "# P value < 0.05 -> 대립가설 참 -> ppm이 정규분포를 띄지 않는다.\n",
        "# ==> 비모수적 검정"
      ],
      "metadata": {
        "id": "K_P6WJb_QYxT",
        "colab": {
          "base_uri": "https://localhost:8080/"
        },
        "outputId": "a29b29c9-0a4f-4181-96b2-915059ad172d"
      },
      "execution_count": null,
      "outputs": [
        {
          "output_type": "execute_result",
          "data": {
            "text/plain": [
              "NormaltestResult(statistic=19.922978503796703, pvalue=4.7182417191754426e-05)"
            ]
          },
          "metadata": {},
          "execution_count": 32
        }
      ]
    },
    {
      "cell_type": "code",
      "source": [
        "# 귀무 가설 : 후속 공정 진행 여부에 따라 압력에 유의미한 차이가 없을 것이다.\n",
        "# 대립 가설 : 후속 공정 진행 여부에 따라 압력에 유의미한 차이가 있을 것이다.\n",
        "cond1 = oxid_wet['Pass/Fail'] == True\n",
        "\n",
        "wet_true  = oxid_wet.loc[cond1]\n",
        "wet_false = oxid_wet.loc[~cond1]\n",
        "\n",
        "stats.ranksums(wet_true['Pressure'], wet_false['Pressure'])\n",
        "# P value > 0.05 -> 귀무 가설 기각 실패 -> 후속 공정 진행 여부에 따라 압력에 유의미한 차이가 없다."
      ],
      "metadata": {
        "id": "A6AoFehhQbYz",
        "colab": {
          "base_uri": "https://localhost:8080/"
        },
        "outputId": "66ae971b-ccbc-4e30-ea23-9fd850fd192d"
      },
      "execution_count": null,
      "outputs": [
        {
          "output_type": "execute_result",
          "data": {
            "text/plain": [
              "RanksumsResult(statistic=-0.8095564337057396, pvalue=0.41819515585128597)"
            ]
          },
          "metadata": {},
          "execution_count": 33
        }
      ]
    },
    {
      "cell_type": "code",
      "source": [
        "cond1 = oxid['type'] == 'dry'\n",
        "\n",
        "oxid_dry = oxid.loc[cond1] # dry data"
      ],
      "metadata": {
        "id": "ZgQ26IzcQsoE"
      },
      "execution_count": null,
      "outputs": []
    },
    {
      "cell_type": "code",
      "source": [
        "# Pressure가 정규분포를 띄는가?\n",
        "# 귀무 가설 : 압력이 정규분포를 띈다\n",
        "# 대립 가설 : 압력이 정규분포를 띄지 않는다.\n",
        "stats.normaltest(oxid_dry['Pressure'])\n",
        "# P value < 0.05 -> 대립가설 참 -> ppm이 정규분포를 띄지 않는다.\n",
        "# ==> 비모수적 검정"
      ],
      "metadata": {
        "id": "6rgahsAIQvfL",
        "colab": {
          "base_uri": "https://localhost:8080/"
        },
        "outputId": "63462ddb-c84f-4896-a203-983e06bff928"
      },
      "execution_count": null,
      "outputs": [
        {
          "output_type": "execute_result",
          "data": {
            "text/plain": [
              "NormaltestResult(statistic=29.01780101128255, pvalue=4.998786311742481e-07)"
            ]
          },
          "metadata": {},
          "execution_count": 35
        }
      ]
    },
    {
      "cell_type": "code",
      "source": [
        "# 귀무 가설 : 후속 공정 진행 여부에 따라 압력에 유의미한 차이가 없을 것이다.\n",
        "# 대립 가설 : 후속 공정 진행 여부에 따라 압력에 유의미한 차이가 있을 것이다.\n",
        "cond1 = oxid_dry['Pass/Fail'] == True\n",
        "\n",
        "dry_true  = oxid_dry.loc[cond1]\n",
        "dry_false = oxid_dry.loc[~cond1]\n",
        "\n",
        "stats.ranksums(dry_true['Pressure'], dry_false['Pressure'])\n",
        "# P value < 0.05 -> 대립가설 참 -> 후속 공정 진행 여부에 따라 압력에 유의미한 차이가 있다."
      ],
      "metadata": {
        "id": "2rv2PTacQw38",
        "colab": {
          "base_uri": "https://localhost:8080/"
        },
        "outputId": "9be1c377-898d-4889-f0cd-b0fbabe8cb85"
      },
      "execution_count": null,
      "outputs": [
        {
          "output_type": "execute_result",
          "data": {
            "text/plain": [
              "RanksumsResult(statistic=2.5101331932121154, pvalue=0.012068563133817146)"
            ]
          },
          "metadata": {},
          "execution_count": 36
        }
      ]
    },
    {
      "cell_type": "markdown",
      "source": [
        "\n",
        "\n",
        "*   **Wet Oxidation의 경우, 후속 공정 진행 여부에 따라 pressure에 유의미한 차이가 없다.**\n",
        "*   **Dry Oxidation의 경우, 후속 공정 진행 여부에 따라 pressure에 유의미한 차이가 있다.**\n",
        "\n"
      ],
      "metadata": {
        "id": "JyhdcsQnQ-m7"
      }
    },
    {
      "cell_type": "markdown",
      "source": [
        "### **4) Time**\n",
        "\n",
        "  1.   *Wet 공정에서 추가 공정 여부에 따라 시간에 유의미한 차이가 있는지 검증*\n",
        "  2.   *Dry 공정에서 추가 공정 여부에 따라 시간에 유의미한 차이가 있는지 검증*\n",
        "\n"
      ],
      "metadata": {
        "id": "a3ssW6ayRE-i"
      }
    },
    {
      "cell_type": "code",
      "source": [
        "cond1 = oxid['type'] == 'wet'\n",
        "\n",
        "oxid_wet = oxid.loc[cond1] # Wet data"
      ],
      "metadata": {
        "id": "UGqkPaJ8RGoS"
      },
      "execution_count": null,
      "outputs": []
    },
    {
      "cell_type": "code",
      "source": [
        "# 공정 시간이 정규분포를 띄는가?\n",
        "# 귀무 가설 : 시간이 정규분포를 띈다\n",
        "# 대립 가설 : 시간이 정규분포를 띄지 않는다.\n",
        "stats.normaltest(oxid_wet['Oxid_time'])\n",
        "# P value < 0.05 -> 대립가설 참 -> ppm이 정규분포를 띄지 않는다.\n",
        "# ==> 비모수적 검정"
      ],
      "metadata": {
        "id": "fb1QdrqaRJ9C",
        "colab": {
          "base_uri": "https://localhost:8080/"
        },
        "outputId": "b1a775a8-01e0-4fc3-abb7-c3d2b22a94fe"
      },
      "execution_count": null,
      "outputs": [
        {
          "output_type": "execute_result",
          "data": {
            "text/plain": [
              "NormaltestResult(statistic=38.44024753527178, pvalue=4.495792994174862e-09)"
            ]
          },
          "metadata": {},
          "execution_count": 38
        }
      ]
    },
    {
      "cell_type": "code",
      "source": [
        "# 귀무 가설 : 후속 공정 진행 여부에 따라 시간에 유의미한 차이가 없을 것이다.\n",
        "# 대립 가설 : 후속 공정 진행 여부에 따라 시간에 유의미한 차이가 있을 것이다.\n",
        "cond1 = oxid_wet['Pass/Fail'] == True\n",
        "\n",
        "wet_true  = oxid_wet.loc[cond1]\n",
        "wet_false = oxid_wet.loc[~cond1]\n",
        "\n",
        "stats.ranksums(wet_true['Oxid_time'], wet_false['Oxid_time'])\n",
        "# P value > 0.05 -> 귀무 가설 기각 실패 -> 후속 공정 진행 여부에 따라 시간에 유의미한 차이가 없다."
      ],
      "metadata": {
        "id": "818sCgCDRMAy",
        "colab": {
          "base_uri": "https://localhost:8080/"
        },
        "outputId": "8fd635e6-f3d7-4b7f-acb6-ae671e5816b2"
      },
      "execution_count": null,
      "outputs": [
        {
          "output_type": "execute_result",
          "data": {
            "text/plain": [
              "RanksumsResult(statistic=-1.4155672497940361, pvalue=0.156902245722812)"
            ]
          },
          "metadata": {},
          "execution_count": 39
        }
      ]
    },
    {
      "cell_type": "code",
      "source": [
        "cond1 = oxid['type'] == 'dry'\n",
        "\n",
        "oxid_dry = oxid.loc[cond1] # Dry data"
      ],
      "metadata": {
        "id": "qrTuO3-2RYpV"
      },
      "execution_count": null,
      "outputs": []
    },
    {
      "cell_type": "code",
      "source": [
        "# Time가 정규분포를 띄는가?\n",
        "# 귀무 가설 : 압력이 정규분포를 띈다\n",
        "# 대립 가설 : 압력이 정규분포를 띄지 않는다.\n",
        "stats.normaltest(oxid_dry['Oxid_time'])\n",
        "# P value < 0.05 -> 대립가설 참 -> ppm이 정규분포를 띄지 않는다.\n",
        "# ==> 비모수적 검정"
      ],
      "metadata": {
        "id": "R0TUM0nMRa51",
        "colab": {
          "base_uri": "https://localhost:8080/"
        },
        "outputId": "2f2cd21d-606f-456f-e31c-6451e3611f17"
      },
      "execution_count": null,
      "outputs": [
        {
          "output_type": "execute_result",
          "data": {
            "text/plain": [
              "NormaltestResult(statistic=523.2954515054824, pvalue=2.3325797608294977e-114)"
            ]
          },
          "metadata": {},
          "execution_count": 41
        }
      ]
    },
    {
      "cell_type": "code",
      "source": [
        "# 귀무 가설 : 후속 공정 진행 여부에 따라 시간에 유의미한 차이가 없을 것이다.\n",
        "# 대립 가설 : 후속 공정 진행 여부에 따라 시간에 유의미한 차이가 있을 것이다.\n",
        "cond1 = oxid_dry['Pass/Fail'] == True\n",
        "\n",
        "dry_true  = oxid_dry.loc[cond1]\n",
        "dry_false = oxid_dry.loc[~cond1]\n",
        "\n",
        "stats.ranksums(dry_true['Oxid_time'], dry_false['Oxid_time'])\n",
        "# P value < 0.05 -> 대립가설 참 -> 후속 공정 진행 여부에 따라 시간에 유의미한 차이가 있다."
      ],
      "metadata": {
        "id": "ZsDpMrvwRc8s",
        "colab": {
          "base_uri": "https://localhost:8080/"
        },
        "outputId": "08262ca3-8d82-4db0-eaee-404601abadf0"
      },
      "execution_count": null,
      "outputs": [
        {
          "output_type": "execute_result",
          "data": {
            "text/plain": [
              "RanksumsResult(statistic=3.3894973280190785, pvalue=0.000700208912761338)"
            ]
          },
          "metadata": {},
          "execution_count": 42
        }
      ]
    },
    {
      "cell_type": "markdown",
      "source": [
        "\n",
        "\n",
        "*   **Wet Oxidation의 경우, 후속 공정 진행 여부에 따라 Time에 유의미한 차이가 없다.**\n",
        "*   **Dry Oxidation의 경우, 후속 공정 진행 여부에 따라 Time에 유의미한 차이가 있다.**\n",
        "\n"
      ],
      "metadata": {
        "id": "xymxOne0RmtU"
      }
    },
    {
      "cell_type": "markdown",
      "source": [
        "###**결론**\n",
        "\n",
        "*   **Dry Oxidation의 경우, 후속 공정 진행 여부에 따라 온도에 유의미한 차이가 있다.**\n",
        "*   **Dry Oxidation의 경우, 후속 공정 진행 여부에 따라 pressure에 유의미한 차이가 있다.**\n",
        "*   **Dry Oxidation의 경우, 후속 공정 진행 여부에 따라 Time에 유의미한 차이가 있다.** \n"
      ],
      "metadata": {
        "id": "s9gKWxDp_1AX"
      }
    },
    {
      "cell_type": "markdown",
      "source": [
        "## **Machine Learning**"
      ],
      "metadata": {
        "id": "yKaWx7UjR450"
      }
    },
    {
      "cell_type": "markdown",
      "source": [
        "### **Statistical Analysis**\n",
        "**Pass/Fail Imbalance 때문에 데이터를 증강하여 분석하고자 함**"
      ],
      "metadata": {
        "id": "36ZW7tBDiTKf"
      }
    },
    {
      "cell_type": "code",
      "source": [
        "onehot_type = pd.get_dummies(oxid['type']) # one-hot encoding for type"
      ],
      "metadata": {
        "id": "f1zmTMlmTL13"
      },
      "execution_count": null,
      "outputs": []
    },
    {
      "cell_type": "code",
      "source": [
        "train = pd.concat([oxid, onehot_type], axis = 1)\n",
        "train.drop(columns=['type'], inplace = True)"
      ],
      "metadata": {
        "id": "tB2iZI3rOxbr"
      },
      "execution_count": null,
      "outputs": []
    },
    {
      "cell_type": "code",
      "source": [
        "X = train.drop(columns = ['thickness', 'Pass/Fail'])\n",
        "Y = train['Pass/Fail']"
      ],
      "metadata": {
        "id": "DkdclC_OPenm"
      },
      "execution_count": null,
      "outputs": []
    },
    {
      "cell_type": "code",
      "source": [
        "from imblearn.over_sampling import ADASYN # Over sampling\n",
        "X_over, Y_over = ADASYN().fit_resample(X, Y) # Over sampling (ADASYN)"
      ],
      "metadata": {
        "id": "ejFj3ANASU40"
      },
      "execution_count": null,
      "outputs": []
    },
    {
      "cell_type": "code",
      "source": [
        "Data_over = X_over\n",
        "Data_over['Pass/Fail'] = Y_over\n",
        "Data_over\n",
        "Data_over['Pass/Fail'].value_counts()\n",
        "# 기존 데이터\n",
        "# True : 801\n",
        "# False :45\n",
        "# 증강 데이터\n",
        "# True : 801\n",
        "# False : 816"
      ],
      "metadata": {
        "id": "U661yl7YSU8L",
        "colab": {
          "base_uri": "https://localhost:8080/"
        },
        "outputId": "8eadf36d-bb4c-4f45-837b-59ac35b735f7"
      },
      "execution_count": null,
      "outputs": [
        {
          "output_type": "execute_result",
          "data": {
            "text/plain": [
              "False    816\n",
              "True     801\n",
              "Name: Pass/Fail, dtype: int64"
            ]
          },
          "metadata": {},
          "execution_count": 47
        }
      ]
    },
    {
      "cell_type": "code",
      "source": [
        "cond1 = Data_over['dry'] == 1.0\n",
        "DData_over = Data_over.loc[cond1] # Dry data\n",
        "WData_over = Data_over.loc[~cond1] # Wet data\n",
        "\n",
        "cond2 = DData_over['Pass/Fail'] == 1.0\n",
        "DPData_over = DData_over.loc[cond2]\n",
        "DFData_over = DData_over.loc[~cond2]\n",
        "\n",
        "cond3 = WData_over['Pass/Fail'] == 1.0\n",
        "WPData_over = WData_over.loc[cond3]\n",
        "WFData_over = WData_over.loc[~cond3]"
      ],
      "metadata": {
        "id": "xqvbsvkdTxaX"
      },
      "execution_count": null,
      "outputs": []
    },
    {
      "cell_type": "code",
      "source": [
        "fig, ((ax1, ax2, ax3, ax4), (ax5, ax6, ax7, ax8)) = plt.subplots(nrows = 2, ncols = 4)\n",
        "fig.set_size_inches(20,10)\n",
        "\n",
        "sns.kdeplot(data = DPData_over, x = 'Temp_OXid', color = 'red', legend = False, ax = ax1)\n",
        "sns.kdeplot(data = DFData_over, x = 'Temp_OXid', color = 'blue', legend = False, ax = ax1)\n",
        "ax1.legend(labels=['Pass', 'Fail'])\n",
        "sns.kdeplot(data = WPData_over, x = 'Temp_OXid', color = 'red', legend = False, ax = ax2)\n",
        "sns.kdeplot(data = WFData_over, x = 'Temp_OXid', color = 'blue', legend = False, ax = ax2)\n",
        "ax2.legend(labels=['Pass', 'Fail'])\n",
        "\n",
        "sns.kdeplot(data = DPData_over, x = 'ppm', color = 'red', legend = False, ax = ax3)\n",
        "sns.kdeplot(data = DFData_over, x = 'ppm', color = 'blue', legend = False, ax = ax3)\n",
        "ax3.legend(labels=['Pass', 'Fail'])\n",
        "sns.kdeplot(data = WPData_over, x = 'ppm', color = 'red', legend = False, ax = ax4)\n",
        "sns.kdeplot(data = WFData_over, x = 'ppm', color = 'blue', legend = False, ax = ax4)\n",
        "ax4.legend(labels=['Pass', 'Fail'])\n",
        "\n",
        "sns.kdeplot(data = DPData_over, x = 'Pressure', color = 'red', legend = False, ax = ax5)\n",
        "sns.kdeplot(data = DFData_over, x = 'Pressure', color = 'blue', legend = False, ax = ax5)\n",
        "ax5.legend(labels=['Pass', 'Fail'])\n",
        "sns.kdeplot(data = WPData_over, x = 'Pressure', color = 'red', legend = False, ax = ax6)\n",
        "sns.kdeplot(data = WFData_over, x = 'Pressure', color = 'blue', legend = False, ax = ax6)\n",
        "ax6.legend(labels=['Pass', 'Fail'])\n",
        "\n",
        "sns.kdeplot(data = DPData_over, x = 'Oxid_time', color = 'red', legend = False, ax = ax7)\n",
        "sns.kdeplot(data = DFData_over, x = 'Oxid_time', color = 'blue', legend = False, ax = ax7)\n",
        "ax7.legend(labels=['Pass', 'Fail'])\n",
        "sns.kdeplot(data = WPData_over, x = 'Oxid_time', color = 'red', legend = False, ax = ax8)\n",
        "sns.kdeplot(data = WFData_over, x = 'Oxid_time', color = 'blue', legend = False, ax = ax8)\n",
        "ax8.legend(labels=['Pass', 'Fail'])\n",
        "\n",
        "ax1.set(title=\"Dry\")\n",
        "ax2.set(title=\"Wet\")\n",
        "ax3.set(title=\"Dry\")\n",
        "ax4.set(title=\"Wet\")\n",
        "ax5.set(title=\"Dry\")\n",
        "ax6.set(title=\"Wet\")\n",
        "ax7.set(title=\"Dry\")\n",
        "ax8.set(title=\"Wet\")"
      ],
      "metadata": {
        "id": "1ITXO9qLSU_r",
        "colab": {
          "base_uri": "https://localhost:8080/",
          "height": 638
        },
        "outputId": "3c9a1cc0-27c0-4a23-aef5-6077c58ca85c"
      },
      "execution_count": null,
      "outputs": [
        {
          "output_type": "execute_result",
          "data": {
            "text/plain": [
              "[Text(0.5, 1.0, 'Wet')]"
            ]
          },
          "metadata": {},
          "execution_count": 49
        },
        {
          "output_type": "display_data",
          "data": {
            "text/plain": [
              "<Figure size 1440x720 with 8 Axes>"
            ],
            "image/png": "[encoded data removed]"
          },
          "metadata": {
            "needs_background": "light"
          }
        }
      ]
    },
    {
      "cell_type": "code",
      "source": [
        "cond = Data_over['dry'] == 1\n",
        "Data_over.loc[cond, 'type'] = 'dry'\n",
        "Data_over.loc[~cond, 'type'] = 'wet'\n",
        "Data_over = Data_over.drop(columns = ['dry', 'wet'])\n",
        "\n",
        "oxid_over = Data_over"
      ],
      "metadata": {
        "id": "8AOT0JeRLhDG"
      },
      "execution_count": null,
      "outputs": []
    },
    {
      "cell_type": "code",
      "source": [
        "fig, ((ax1, ax2), (ax3, ax4)) = plt.subplots(nrows = 2, ncols = 2)\n",
        "fig.set_size_inches(15,15)\n",
        "\n",
        "sns.barplot(data = oxid, x = 'Pass/Fail', y='Temp_OXid', hue = 'type', ax = ax1, ci=None)\n",
        "sns.barplot(data = oxid, x = 'Pass/Fail', y='ppm', hue = 'type', ax = ax2, ci=None)\n",
        "sns.barplot(data = oxid, x = 'Pass/Fail', y='Pressure', hue = 'type', ax = ax3, ci=None)\n",
        "sns.barplot(data = oxid, x = 'Pass/Fail', y='Oxid_time', hue = 'type', ax = ax4, ci=None)\n",
        "\n",
        "ax1.set(title=\"Temperature\")\n",
        "ax2.set(title=\"O2 / H2O\")\n",
        "ax3.set(title=\"Pressure\")\n",
        "ax4.set(title=\"Time\")\n",
        "\n",
        "# 공정변수 별 \n",
        "# 후속 공정 진행 여부에 따라 \n",
        "# 유의미한 차이가 있는지 검증 필요"
      ],
      "metadata": {
        "id": "9B0PyS8RXsly",
        "colab": {
          "base_uri": "https://localhost:8080/",
          "height": 910
        },
        "outputId": "880f673a-b8d3-4944-dbe6-b53cb6637a79"
      },
      "execution_count": null,
      "outputs": [
        {
          "output_type": "execute_result",
          "data": {
            "text/plain": [
              "[Text(0.5, 1.0, 'Time')]"
            ]
          },
          "metadata": {},
          "execution_count": 51
        },
        {
          "output_type": "display_data",
          "data": {
            "text/plain": [
              "<Figure size 1080x1080 with 4 Axes>"
            ],
            "image/png": "[encoded data removed]"
          },
          "metadata": {
            "needs_background": "light"
          }
        }
      ]
    },
    {
      "cell_type": "markdown",
      "source": [
        "#### **1) Temperature**\n",
        "\n",
        "  1.   *Wet 공정에서 후속 공정 진행 여부에 따라 온도에 유의미한 차이가 있는지 검증*\n",
        "  2.   *Dry 공정에서 후속 공정 진행 여부에 따라 온도에 유의미한 차이가 있는지 검증*\n",
        "\n"
      ],
      "metadata": {
        "id": "cqTR_R56XsmE"
      }
    },
    {
      "cell_type": "code",
      "source": [
        "cond1 = oxid['type'] == 'wet'\n",
        "\n",
        "oxid_wet = oxid.loc[cond1] # Wet data"
      ],
      "metadata": {
        "id": "fewOh5ByXsmF"
      },
      "execution_count": null,
      "outputs": []
    },
    {
      "cell_type": "code",
      "source": [
        "# 온도가 정규분포를 띄는가?\n",
        "# 귀무 가설 : 온도가 정규분포를 띈다\n",
        "# 대립 가설 : 온도가 정규분포를 띄지 않는다.\n",
        "stats.normaltest(oxid_wet['Temp_OXid'])\n",
        "# P value < 0.05 -> 대립가설 참 -> 온도가 정규분포를 띄지 않는다.\n",
        "# ==> 비모수적 검정"
      ],
      "metadata": {
        "id": "4JK1xERJXsmF",
        "colab": {
          "base_uri": "https://localhost:8080/"
        },
        "outputId": "d9397a93-e853-4419-9aa7-cd28e4c8e2f6"
      },
      "execution_count": null,
      "outputs": [
        {
          "output_type": "execute_result",
          "data": {
            "text/plain": [
              "NormaltestResult(statistic=94.57998214249325, pvalue=2.8987971689618255e-21)"
            ]
          },
          "metadata": {},
          "execution_count": 53
        }
      ]
    },
    {
      "cell_type": "code",
      "source": [
        "# 귀무 가설 : 후속 공정 진행 여부에 따라 온도에 유의미한 차이가 없을 것이다.\n",
        "# 대립 가설 : 후속 공정 진행 여부에 따라 온도에 유의미한 차이가 있을 것이다.\n",
        "cond1 = oxid_wet['Pass/Fail'] == True\n",
        "\n",
        "wet_true  = oxid_wet.loc[cond1]\n",
        "wet_false = oxid_wet.loc[~cond1]\n",
        "\n",
        "stats.ranksums(wet_true['Temp_OXid'], wet_false['Temp_OXid'])\n",
        "# P value > 0.05 -> 귀무가설 기각 실패 -> 후속 공정 진행 여부에 따라 온도에 유의미한 차이가 없다."
      ],
      "metadata": {
        "id": "U6uNuJ2iXsmG",
        "colab": {
          "base_uri": "https://localhost:8080/"
        },
        "outputId": "f4a82040-f10b-4336-8093-73e874e6910c"
      },
      "execution_count": null,
      "outputs": [
        {
          "output_type": "execute_result",
          "data": {
            "text/plain": [
              "RanksumsResult(statistic=0.5042380072795749, pvalue=0.6140941349739748)"
            ]
          },
          "metadata": {},
          "execution_count": 54
        }
      ]
    },
    {
      "cell_type": "code",
      "source": [
        "cond1 = oxid['type'] == 'dry'\n",
        "\n",
        "oxid_dry = oxid.loc[cond1] # Dry data"
      ],
      "metadata": {
        "id": "Nstzv7ICXsmG"
      },
      "execution_count": null,
      "outputs": []
    },
    {
      "cell_type": "code",
      "source": [
        "# 온도가 정규분포를 띄는가?\n",
        "# 귀무 가설 : 온도가 정규분포를 띈다\n",
        "# 대립 가설 : 온도가 정규분포를 띄지 않는다.\n",
        "stats.normaltest(oxid_dry['Temp_OXid'])\n",
        "# P value < 0.05 -> 대립가설 참 -> 온도가 정규분포를 띄지 않는다.\n",
        "# ==> 비모수적 검정"
      ],
      "metadata": {
        "id": "TuJLeR3qXsmG",
        "colab": {
          "base_uri": "https://localhost:8080/"
        },
        "outputId": "9e4a5c79-5234-4825-8885-372d9d65ada7"
      },
      "execution_count": null,
      "outputs": [
        {
          "output_type": "execute_result",
          "data": {
            "text/plain": [
              "NormaltestResult(statistic=238.6579665670551, pvalue=1.4999646664981524e-52)"
            ]
          },
          "metadata": {},
          "execution_count": 56
        }
      ]
    },
    {
      "cell_type": "code",
      "source": [
        "# 귀무 가설 : 추가 공정 여부에 따라 온도에 유의미한 차이가 없을 것이다.\n",
        "# 대립 가설 : 추가 공정 여부에 따라 온도에 유의미한 차이가 있을 것이다.\n",
        "cond1 = oxid_dry['Pass/Fail'] == True\n",
        "\n",
        "dry_true  = oxid_dry.loc[cond1]\n",
        "dry_false = oxid_dry.loc[~cond1]\n",
        "\n",
        "stats.ranksums(dry_true['Temp_OXid'], dry_false['Temp_OXid'])\n",
        "# P value < 0.05 -> 대립가설 참 -> 추가 공정 여부에 따라 온도에 유의미한 차이가 있다."
      ],
      "metadata": {
        "id": "CkWS8HeuXsmH",
        "colab": {
          "base_uri": "https://localhost:8080/"
        },
        "outputId": "3e6a5c72-20e1-4726-fe3d-f7bf8dba45e3"
      },
      "execution_count": null,
      "outputs": [
        {
          "output_type": "execute_result",
          "data": {
            "text/plain": [
              "RanksumsResult(statistic=-2.4653474692890445, pvalue=0.013688044024934102)"
            ]
          },
          "metadata": {},
          "execution_count": 57
        }
      ]
    },
    {
      "cell_type": "markdown",
      "source": [
        "\n",
        "\n",
        "*   **Wet Oxidation의 경우, 후속 공정 진행 여부에 따라 온도에 유의미한 차이가 없다.**\n",
        "*   **Dry Oxidation의 경우, 후속 공정 진행 여부에 따라 온도에 유의미한 차이가 있다.**\n",
        "\n"
      ],
      "metadata": {
        "id": "iFhNz8HZXsmH"
      }
    },
    {
      "cell_type": "markdown",
      "source": [
        "#### **2) O2 / H2O ppm**\n",
        "  1.   Wet 공정에서 추가 공정 여부에 따라 H2O ppm에 유의미한 차이가 있는지 검증 \n",
        "  2.   Dry 공정에서 추가 공정 여부에 따라 O2  ppm에 유의미한 차이가 있는지 검증\n",
        "\n"
      ],
      "metadata": {
        "id": "DazB52x3XsmI"
      }
    },
    {
      "cell_type": "code",
      "source": [
        "cond1 = oxid['type'] == 'wet'\n",
        "\n",
        "oxid_wet = oxid.loc[cond1] # Wet data"
      ],
      "metadata": {
        "id": "syGp_kleXsmI"
      },
      "execution_count": null,
      "outputs": []
    },
    {
      "cell_type": "code",
      "source": [
        "# ppm이 정규분포를 띄는가?\n",
        "# 귀무 가설 : ppm이 정규분포를 띈다\n",
        "# 대립 가설 : ppm이 정규분포를 띄지 않는다.\n",
        "stats.normaltest(oxid_wet['ppm'])\n",
        "# P value < 0.05 -> 대립가설 참 -> ppm이 정규분포를 띄지 않는다.\n",
        "# ==> 비모수적 검정"
      ],
      "metadata": {
        "id": "VWn10tOlXsmI",
        "colab": {
          "base_uri": "https://localhost:8080/"
        },
        "outputId": "921e12f6-5fbd-4db3-fc47-0712000dfc39"
      },
      "execution_count": null,
      "outputs": [
        {
          "output_type": "execute_result",
          "data": {
            "text/plain": [
              "NormaltestResult(statistic=55.20384316860684, pvalue=1.0295270598771564e-12)"
            ]
          },
          "metadata": {},
          "execution_count": 59
        }
      ]
    },
    {
      "cell_type": "code",
      "source": [
        "# 귀무 가설 : 후속 공정 진행 여부에 따라 ppm에 유의미한 차이가 없을 것이다.\n",
        "# 대립 가설 : 후속 공정 진행 여부에 따라 ppm에 유의미한 차이가 있을 것이다.\n",
        "cond1 = oxid_wet['Pass/Fail'] == True\n",
        "\n",
        "wet_true  = oxid_wet.loc[cond1]\n",
        "wet_false = oxid_wet.loc[~cond1]\n",
        "\n",
        "stats.ranksums(wet_true['ppm'], wet_false['ppm'])\n",
        "# P value > 0.05 -> 귀무 가설 기각 실패 -> 후속 공정 진행 여부에 따라 ppm에 유의미한 차이가 없다."
      ],
      "metadata": {
        "id": "znWHB213XsmJ",
        "colab": {
          "base_uri": "https://localhost:8080/"
        },
        "outputId": "290abc7e-2cf5-4f40-f938-5b19c8caccb1"
      },
      "execution_count": null,
      "outputs": [
        {
          "output_type": "execute_result",
          "data": {
            "text/plain": [
              "RanksumsResult(statistic=-0.13184204777493475, pvalue=0.8951092275084526)"
            ]
          },
          "metadata": {},
          "execution_count": 60
        }
      ]
    },
    {
      "cell_type": "code",
      "source": [
        "cond1 = oxid['type'] == 'dry'\n",
        "\n",
        "oxid_dry = oxid.loc[cond1] # Dry data"
      ],
      "metadata": {
        "id": "jGEyjj_XXsmJ"
      },
      "execution_count": null,
      "outputs": []
    },
    {
      "cell_type": "code",
      "source": [
        "# ppm이 정규분포를 띄는가?\n",
        "# 귀무 가설 : ppm이 정규분포를 띈다\n",
        "# 대립 가설 : ppm이 정규분포를 띄지 않는다.\n",
        "stats.normaltest(oxid_dry['ppm'])\n",
        "# P value < 0.05 -> 대립가설 참 -> 온도가 정규분포를 띄지 않는다.\n",
        "# ==> 비모수적 검정"
      ],
      "metadata": {
        "id": "Ah_6mN5FXsmJ",
        "colab": {
          "base_uri": "https://localhost:8080/"
        },
        "outputId": "67ecc1cf-9a58-4171-b4e9-378714470e97"
      },
      "execution_count": null,
      "outputs": [
        {
          "output_type": "execute_result",
          "data": {
            "text/plain": [
              "NormaltestResult(statistic=111.71734286270353, pvalue=5.506646920206479e-25)"
            ]
          },
          "metadata": {},
          "execution_count": 62
        }
      ]
    },
    {
      "cell_type": "code",
      "source": [
        "# 귀무 가설 : 후속 공정 진행 여부에 따라 ppm에 유의미한 차이가 없을 것이다.\n",
        "# 대립 가설 : 후속 공정 진행 여부에 따라 ppm에 유의미한 차이가 있을 것이다.\n",
        "cond1 = oxid_dry['Pass/Fail'] == True\n",
        "\n",
        "dry_true  = oxid_dry.loc[cond1]\n",
        "dry_false = oxid_dry.loc[~cond1]\n",
        "\n",
        "stats.ranksums(dry_true['ppm'], dry_false['ppm'])\n",
        "# P value > 0.05 -> 귀무 가설 기각 실패 -> 후속 공정 진행 여부에 따라 ppm에 유의미한 차이가 있다."
      ],
      "metadata": {
        "id": "xrjHIkMVXsmK",
        "colab": {
          "base_uri": "https://localhost:8080/"
        },
        "outputId": "004bcb13-3abd-4410-c304-8108062f0d27"
      },
      "execution_count": null,
      "outputs": [
        {
          "output_type": "execute_result",
          "data": {
            "text/plain": [
              "RanksumsResult(statistic=-1.9392929343196406, pvalue=0.05246567876711466)"
            ]
          },
          "metadata": {},
          "execution_count": 63
        }
      ]
    },
    {
      "cell_type": "markdown",
      "source": [
        "\n",
        "\n",
        "*   **Wet Oxidation의 경우, 후속 공정 진행 여부에 따라 ppm에 유의미한 차이가 없다.**\n",
        "*   **Dry Oxidation의 경우, 후속 공정 진행 여부에 따라 ppm에 유의미한 차이가 없다.**\n",
        "\n"
      ],
      "metadata": {
        "id": "oJlhx_u3XsmK"
      }
    },
    {
      "cell_type": "markdown",
      "source": [
        "#### **3) Pressure**\n",
        "\n",
        "  1.   *Wet 공정에서 추가 공정 여부에 따라 압력에 유의미한 차이가 있는지 검증*\n",
        "  2.   *Dry 공정에서 추가 공정 여부에 따라 압력에 유의미한 차이가 있는지 검증*\n",
        "\n"
      ],
      "metadata": {
        "id": "ow4EvThaXsmL"
      }
    },
    {
      "cell_type": "code",
      "source": [
        "cond1 = oxid['type'] == 'wet'\n",
        "\n",
        "oxid_wet = oxid.loc[cond1] # Wet data"
      ],
      "metadata": {
        "id": "YA4f66E2XsmL"
      },
      "execution_count": null,
      "outputs": []
    },
    {
      "cell_type": "code",
      "source": [
        "# Pressure가 정규분포를 띄는가?\n",
        "# 귀무 가설 : 압력이 정규분포를 띈다\n",
        "# 대립 가설 : 압력이 정규분포를 띄지 않는다.\n",
        "stats.normaltest(oxid_wet['Pressure'])\n",
        "# P value < 0.05 -> 대립가설 참 -> ppm이 정규분포를 띄지 않는다.\n",
        "# ==> 비모수적 검정"
      ],
      "metadata": {
        "id": "ix5xqLGMXsmL",
        "colab": {
          "base_uri": "https://localhost:8080/"
        },
        "outputId": "9a35ba11-4acf-4773-ef3a-d3894e9da30d"
      },
      "execution_count": null,
      "outputs": [
        {
          "output_type": "execute_result",
          "data": {
            "text/plain": [
              "NormaltestResult(statistic=19.922978503796703, pvalue=4.7182417191754426e-05)"
            ]
          },
          "metadata": {},
          "execution_count": 65
        }
      ]
    },
    {
      "cell_type": "code",
      "source": [
        "# 귀무 가설 : 후속 공정 진행 여부에 따라 압력에 유의미한 차이가 없을 것이다.\n",
        "# 대립 가설 : 후속 공정 진행 여부에 따라 압력에 유의미한 차이가 있을 것이다.\n",
        "cond1 = oxid_wet['Pass/Fail'] == True\n",
        "\n",
        "wet_true  = oxid_wet.loc[cond1]\n",
        "wet_false = oxid_wet.loc[~cond1]\n",
        "\n",
        "stats.ranksums(wet_true['Pressure'], wet_false['Pressure'])\n",
        "# P value > 0.05 -> 귀무 가설 기각 실패 -> 후속 공정 진행 여부에 따라 압력에 유의미한 차이가 없다."
      ],
      "metadata": {
        "id": "7QN2vOEVXsmM",
        "colab": {
          "base_uri": "https://localhost:8080/"
        },
        "outputId": "6483e0ee-c93a-4954-f732-06bf2ecc3c75"
      },
      "execution_count": null,
      "outputs": [
        {
          "output_type": "execute_result",
          "data": {
            "text/plain": [
              "RanksumsResult(statistic=-0.8095564337057396, pvalue=0.41819515585128597)"
            ]
          },
          "metadata": {},
          "execution_count": 66
        }
      ]
    },
    {
      "cell_type": "code",
      "source": [
        "cond1 = oxid['type'] == 'dry'\n",
        "\n",
        "oxid_dry = oxid.loc[cond1] # dry data"
      ],
      "metadata": {
        "id": "u--193m2XsmM"
      },
      "execution_count": null,
      "outputs": []
    },
    {
      "cell_type": "code",
      "source": [
        "# Pressure가 정규분포를 띄는가?\n",
        "# 귀무 가설 : 압력이 정규분포를 띈다\n",
        "# 대립 가설 : 압력이 정규분포를 띄지 않는다.\n",
        "stats.normaltest(oxid_dry['Pressure'])\n",
        "# P value < 0.05 -> 대립가설 참 -> ppm이 정규분포를 띄지 않는다.\n",
        "# ==> 비모수적 검정"
      ],
      "metadata": {
        "id": "pP9NnAywXsmM",
        "colab": {
          "base_uri": "https://localhost:8080/"
        },
        "outputId": "4e87f9f1-b1bc-4ba9-a81f-2c2d0d00d021"
      },
      "execution_count": null,
      "outputs": [
        {
          "output_type": "execute_result",
          "data": {
            "text/plain": [
              "NormaltestResult(statistic=29.01780101128255, pvalue=4.998786311742481e-07)"
            ]
          },
          "metadata": {},
          "execution_count": 68
        }
      ]
    },
    {
      "cell_type": "code",
      "source": [
        "# 귀무 가설 : 후속 공정 진행 여부에 따라 압력에 유의미한 차이가 없을 것이다.\n",
        "# 대립 가설 : 후속 공정 진행 여부에 따라 압력에 유의미한 차이가 있을 것이다.\n",
        "cond1 = oxid_dry['Pass/Fail'] == True\n",
        "\n",
        "dry_true  = oxid_dry.loc[cond1]\n",
        "dry_false = oxid_dry.loc[~cond1]\n",
        "\n",
        "stats.ranksums(dry_true['Pressure'], dry_false['Pressure'])\n",
        "# P value < 0.05 -> 대립가설 참 -> 후속 공정 진행 여부에 따라 압력에 유의미한 차이가 있다."
      ],
      "metadata": {
        "id": "Zia792T5XsmN",
        "colab": {
          "base_uri": "https://localhost:8080/"
        },
        "outputId": "563adb0a-ba17-4082-8549-ab75a0057a65"
      },
      "execution_count": null,
      "outputs": [
        {
          "output_type": "execute_result",
          "data": {
            "text/plain": [
              "RanksumsResult(statistic=2.5101331932121154, pvalue=0.012068563133817146)"
            ]
          },
          "metadata": {},
          "execution_count": 69
        }
      ]
    },
    {
      "cell_type": "markdown",
      "source": [
        "\n",
        "\n",
        "*   **Wet Oxidation의 경우, 후속 공정 진행 여부에 따라 pressure에 유의미한 차이가 없다.**\n",
        "*   **Dry Oxidation의 경우, 후속 공정 진행 여부에 따라 pressure에 유의미한 차이가 있다.**\n",
        "\n"
      ],
      "metadata": {
        "id": "uOL6NxiCXsmN"
      }
    },
    {
      "cell_type": "markdown",
      "source": [
        "#### **4) Time**\n",
        "\n",
        "  1.   *Wet 공정에서 추가 공정 여부에 따라 시간에 유의미한 차이가 있는지 검증*\n",
        "  2.   *Dry 공정에서 추가 공정 여부에 따라 시간에 유의미한 차이가 있는지 검증*\n",
        "\n"
      ],
      "metadata": {
        "id": "OUxULEnBXsmN"
      }
    },
    {
      "cell_type": "code",
      "source": [
        "cond1 = oxid['type'] == 'wet'\n",
        "\n",
        "oxid_wet = oxid.loc[cond1] # Wet data"
      ],
      "metadata": {
        "id": "2-69wyDqXsmO"
      },
      "execution_count": null,
      "outputs": []
    },
    {
      "cell_type": "code",
      "source": [
        "# 공정 시간이 정규분포를 띄는가?\n",
        "# 귀무 가설 : 시간이 정규분포를 띈다\n",
        "# 대립 가설 : 시간이 정규분포를 띄지 않는다.\n",
        "stats.normaltest(oxid_wet['Oxid_time'])\n",
        "# P value < 0.05 -> 대립가설 참 -> ppm이 정규분포를 띄지 않는다.\n",
        "# ==> 비모수적 검정"
      ],
      "metadata": {
        "id": "5WLyuGmdXsmO",
        "colab": {
          "base_uri": "https://localhost:8080/"
        },
        "outputId": "f01853be-b46c-46bb-e2c1-962f33165cd9"
      },
      "execution_count": null,
      "outputs": [
        {
          "output_type": "execute_result",
          "data": {
            "text/plain": [
              "NormaltestResult(statistic=38.44024753527178, pvalue=4.495792994174862e-09)"
            ]
          },
          "metadata": {},
          "execution_count": 71
        }
      ]
    },
    {
      "cell_type": "code",
      "source": [
        "# 귀무 가설 : 후속 공정 진행 여부에 따라 시간에 유의미한 차이가 없을 것이다.\n",
        "# 대립 가설 : 후속 공정 진행 여부에 따라 시간에 유의미한 차이가 있을 것이다.\n",
        "cond1 = oxid_wet['Pass/Fail'] == True\n",
        "\n",
        "wet_true  = oxid_wet.loc[cond1]\n",
        "wet_false = oxid_wet.loc[~cond1]\n",
        "\n",
        "stats.ranksums(wet_true['Oxid_time'], wet_false['Oxid_time'])\n",
        "# P value > 0.05 -> 귀무 가설 기각 실패 -> 후속 공정 진행 여부에 따라 시간에 유의미한 차이가 없다."
      ],
      "metadata": {
        "id": "dmoGT5hXXsmO",
        "colab": {
          "base_uri": "https://localhost:8080/"
        },
        "outputId": "fba7d435-414e-426b-8fa2-f89c9fbf34e1"
      },
      "execution_count": null,
      "outputs": [
        {
          "output_type": "execute_result",
          "data": {
            "text/plain": [
              "RanksumsResult(statistic=-1.4155672497940361, pvalue=0.156902245722812)"
            ]
          },
          "metadata": {},
          "execution_count": 72
        }
      ]
    },
    {
      "cell_type": "code",
      "source": [
        "cond1 = oxid['type'] == 'dry'\n",
        "\n",
        "oxid_dry = oxid.loc[cond1] # Dry data"
      ],
      "metadata": {
        "id": "5RmYVQ5EXsmP"
      },
      "execution_count": null,
      "outputs": []
    },
    {
      "cell_type": "code",
      "source": [
        "# Time가 정규분포를 띄는가?\n",
        "# 귀무 가설 : 압력이 정규분포를 띈다\n",
        "# 대립 가설 : 압력이 정규분포를 띄지 않는다.\n",
        "stats.normaltest(oxid_dry['Oxid_time'])\n",
        "# P value < 0.05 -> 대립가설 참 -> ppm이 정규분포를 띄지 않는다.\n",
        "# ==> 비모수적 검정"
      ],
      "metadata": {
        "id": "CznskLQxXsmP",
        "colab": {
          "base_uri": "https://localhost:8080/"
        },
        "outputId": "5f8982b3-6e1f-428f-b00b-67e92b9d34dc"
      },
      "execution_count": null,
      "outputs": [
        {
          "output_type": "execute_result",
          "data": {
            "text/plain": [
              "NormaltestResult(statistic=523.2954515054824, pvalue=2.3325797608294977e-114)"
            ]
          },
          "metadata": {},
          "execution_count": 74
        }
      ]
    },
    {
      "cell_type": "code",
      "source": [
        "# 귀무 가설 : 후속 공정 진행 여부에 따라 시간에 유의미한 차이가 없을 것이다.\n",
        "# 대립 가설 : 후속 공정 진행 여부에 따라 시간에 유의미한 차이가 있을 것이다.\n",
        "cond1 = oxid_dry['Pass/Fail'] == True\n",
        "\n",
        "dry_true  = oxid_dry.loc[cond1]\n",
        "dry_false = oxid_dry.loc[~cond1]\n",
        "\n",
        "stats.ranksums(dry_true['Oxid_time'], dry_false['Oxid_time'])\n",
        "# P value < 0.05 -> 대립가설 참 -> 후속 공정 진행 여부에 따라 시간에 유의미한 차이가 있다."
      ],
      "metadata": {
        "id": "CrHih10vXsmQ",
        "colab": {
          "base_uri": "https://localhost:8080/"
        },
        "outputId": "8ead96d2-7202-42cc-acde-2d55ad920cbc"
      },
      "execution_count": null,
      "outputs": [
        {
          "output_type": "execute_result",
          "data": {
            "text/plain": [
              "RanksumsResult(statistic=3.3894973280190785, pvalue=0.000700208912761338)"
            ]
          },
          "metadata": {},
          "execution_count": 75
        }
      ]
    },
    {
      "cell_type": "markdown",
      "source": [
        "\n",
        "\n",
        "*   **Wet Oxidation의 경우, 후속 공정 진행 여부에 따라 Time에 유의미한 차이가 없다.**\n",
        "*   **Dry Oxidation의 경우, 후속 공정 진행 여부에 따라 Time에 유의미한 차이가 있다.**\n",
        "\n"
      ],
      "metadata": {
        "id": "8ToG7tsMXsmQ"
      }
    },
    {
      "cell_type": "markdown",
      "source": [
        "###**결론**\n",
        "\n",
        "*   **Dry Oxidation의 경우, 후속 공정 진행 여부에 따라 Temperature에 유의미한 차이가 있다.**\n",
        "*   **Dry Oxidation의 경우, 후속 공정 진행 여부에 따라 Pressure에 유의미한 차이가 있다.**\n",
        "*   **Dry Oxidation의 경우, 후속 공정 진행 여부에 따라 Time에 유의미한 차이가 있다.** \n"
      ],
      "metadata": {
        "id": "SuJR5QtbAfG2"
      }
    },
    {
      "cell_type": "markdown",
      "source": [
        "### **LightGBM**"
      ],
      "metadata": {
        "id": "XT4RUX1wihcf"
      }
    },
    {
      "cell_type": "code",
      "source": [
        "onehot_type_over = pd.get_dummies(oxid_over['type']) # one-hot encoding for type"
      ],
      "metadata": {
        "id": "BCxAQ6Bqk6Js"
      },
      "execution_count": null,
      "outputs": []
    },
    {
      "cell_type": "code",
      "source": [
        "train = pd.concat([oxid_over, onehot_type_over], axis = 1) # 데이터 세트\n",
        "train.drop(columns=['type'], inplace = True)"
      ],
      "metadata": {
        "id": "I42rFpEXk6Ju"
      },
      "execution_count": null,
      "outputs": []
    },
    {
      "cell_type": "code",
      "source": [
        "cond = train['Pass/Fail'] == True\n",
        "train.loc[cond, 'Target'] = 1\n",
        "train.loc[~cond, 'Target'] = 0"
      ],
      "metadata": {
        "id": "PS3fuus7lL5u"
      },
      "execution_count": null,
      "outputs": []
    },
    {
      "cell_type": "code",
      "source": [
        "X = train.drop(columns = ['Pass/Fail', 'Target'])\n",
        "Y = train['Target']"
      ],
      "metadata": {
        "id": "l-QGxEHZlfTf"
      },
      "execution_count": null,
      "outputs": []
    },
    {
      "cell_type": "code",
      "source": [
        "from sklearn.model_selection import train_test_split\n",
        "from lightgbm import LGBMClassifier\n",
        "from sklearn.model_selection import cross_val_score\n",
        "from sklearn.metrics import classification_report"
      ],
      "metadata": {
        "id": "w0IEBpqKQ31u"
      },
      "execution_count": null,
      "outputs": []
    },
    {
      "cell_type": "code",
      "source": [
        "X_train, X_test, Y_train, Y_test = train_test_split(X, Y, test_size = 0.2)"
      ],
      "metadata": {
        "id": "VssxLnb7TtRG"
      },
      "execution_count": null,
      "outputs": []
    },
    {
      "cell_type": "code",
      "source": [
        "from hyperopt import hp\n",
        "from hyperopt import STATUS_OK\n",
        "from hyperopt import fmin, tpe, Trials\n",
        "\n",
        "lgb_search_space = {'max_depth': hp.quniform('max_depth', 5, 20, 1),\n",
        "                    'n_estimators':hp.quniform('n_estimators', 500, 1000, 100),\n",
        "                    'num_leaves':hp.quniform('num_leaves', 50, 150, 10),\n",
        "                    'colsample_bytree': hp.uniform('colsample_bytree', 0.5, 1)}"
      ],
      "metadata": {
        "id": "fzDkCwVDj84q"
      },
      "execution_count": null,
      "outputs": []
    },
    {
      "cell_type": "code",
      "source": [
        "def objective_func(search_space):\n",
        "    \n",
        "    model = LGBMClassifier(n_estimators=int(search_space['n_estimators']), \n",
        "                           max_depth=int(search_space['max_depth']),\n",
        "                           num_leaves=int(search_space['num_leaves']),\n",
        "                           colsample_bytree=search_space['colsample_bytree'], \n",
        "                           eval_metric='logloss')\n",
        "    \n",
        "    score = cross_val_score(model, X_train, Y_train, scoring='f1', cv=3)\n",
        "        \n",
        "    return {'loss':-1 * np.mean(score), 'status': STATUS_OK}"
      ],
      "metadata": {
        "id": "aiwmwdpYj87V"
      },
      "execution_count": null,
      "outputs": []
    },
    {
      "cell_type": "code",
      "source": [
        "trial_val = Trials()\n",
        "best = fmin(fn=objective_func,\n",
        "            space=lgb_search_space,\n",
        "            algo=tpe.suggest,\n",
        "            max_evals=50,\n",
        "            trials=trial_val)\n",
        "print('best:', best)"
      ],
      "metadata": {
        "colab": {
          "base_uri": "https://localhost:8080/"
        },
        "id": "Q_p9kffsj89H",
        "outputId": "7500d2b6-d02b-495f-e428-c30f14185ffa"
      },
      "execution_count": null,
      "outputs": [
        {
          "output_type": "stream",
          "name": "stdout",
          "text": [
            "100%|██████████| 50/50 [01:02<00:00,  1.26s/it, best loss: -0.9014119789581256]\n",
            "best: {'colsample_bytree': 0.7330483655816262, 'max_depth': 16.0, 'n_estimators': 1000.0, 'num_leaves': 110.0}\n"
          ]
        }
      ]
    },
    {
      "cell_type": "code",
      "source": [
        "best_model = LGBMClassifier(n_estimators=int(best['n_estimators']), colsample_bytree=round(best['colsample_bytree'], 5), \n",
        "                            max_depth=int(best['max_depth']), num_leaves=int(best['num_leaves'])\n",
        "                           )\n",
        "\n",
        "best_model.fit(X_train, Y_train)"
      ],
      "metadata": {
        "colab": {
          "base_uri": "https://localhost:8080/"
        },
        "id": "mGrHwBQwqpP7",
        "outputId": "0fd0526e-5226-4c55-b661-fe04bf752ad5"
      },
      "execution_count": null,
      "outputs": [
        {
          "output_type": "execute_result",
          "data": {
            "text/plain": [
              "LGBMClassifier(colsample_bytree=0.73305, max_depth=16, n_estimators=1000,\n",
              "               num_leaves=110)"
            ]
          },
          "metadata": {},
          "execution_count": 85
        }
      ]
    },
    {
      "cell_type": "code",
      "source": [
        "Y_train_pred = best_model.predict(X_train)\n",
        "Y_test_pred  = best_model.predict(X_test)"
      ],
      "metadata": {
        "id": "7k0vyT2kWDy_"
      },
      "execution_count": null,
      "outputs": []
    },
    {
      "cell_type": "code",
      "source": [
        "print(classification_report(Y_train, Y_train_pred))\n",
        "print('-----------------------------------------------------')\n",
        "print(classification_report(Y_test, Y_test_pred))"
      ],
      "metadata": {
        "colab": {
          "base_uri": "https://localhost:8080/"
        },
        "id": "0j5kfrGzWPIN",
        "outputId": "1205fa9b-0e86-4e4a-d621-5142839246f6"
      },
      "execution_count": null,
      "outputs": [
        {
          "output_type": "stream",
          "name": "stdout",
          "text": [
            "              precision    recall  f1-score   support\n",
            "\n",
            "         0.0       1.00      1.00      1.00       650\n",
            "         1.0       1.00      1.00      1.00       643\n",
            "\n",
            "    accuracy                           1.00      1293\n",
            "   macro avg       1.00      1.00      1.00      1293\n",
            "weighted avg       1.00      1.00      1.00      1293\n",
            "\n",
            "-----------------------------------------------------\n",
            "              precision    recall  f1-score   support\n",
            "\n",
            "         0.0       0.97      0.96      0.96       166\n",
            "         1.0       0.96      0.97      0.96       158\n",
            "\n",
            "    accuracy                           0.96       324\n",
            "   macro avg       0.96      0.96      0.96       324\n",
            "weighted avg       0.96      0.96      0.96       324\n",
            "\n"
          ]
        }
      ]
    },
    {
      "cell_type": "code",
      "source": [
        "from lightgbm import plot_importance\n",
        "\n",
        "fig, ax = plt.subplots(figsize=(10, 5))\n",
        "plot_importance(best_model, ax=ax)\n",
        "# ML이 데이터를 분류하는 데 있어 중요했던 Features"
      ],
      "metadata": {
        "colab": {
          "base_uri": "https://localhost:8080/",
          "height": 367
        },
        "id": "MpcIBhd8WeBW",
        "outputId": "5a5fb02b-8c60-4ac5-bedf-3c7a1088dd4e"
      },
      "execution_count": null,
      "outputs": [
        {
          "output_type": "execute_result",
          "data": {
            "text/plain": [
              "<matplotlib.axes._subplots.AxesSubplot at 0x7f4e77665990>"
            ]
          },
          "metadata": {},
          "execution_count": 88
        },
        {
          "output_type": "display_data",
          "data": {
            "text/plain": [
              "<Figure size 720x360 with 1 Axes>"
            ],
            "image/png": "[encoded data removed]"
          },
          "metadata": {
            "needs_background": "light"
          }
        }
      ]
    },
    {
      "cell_type": "markdown",
      "source": [
        "###**결론**\n",
        "\n",
        "*   M**L이 데이터를 분류하는 데 있어 중요하게 선택한 공정변수와 통계적으로 분석한 공정변수가 동일함을 확인**\n"
      ],
      "metadata": {
        "id": "KUbyaDJtD0bH"
      }
    }
  ]
}